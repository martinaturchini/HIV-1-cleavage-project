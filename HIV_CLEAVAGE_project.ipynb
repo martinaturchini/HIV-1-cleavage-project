{
  "nbformat": 4,
  "nbformat_minor": 0,
  "metadata": {
    "colab": {
      "provenance": [],
      "authorship_tag": "ABX9TyMYINGGNH50k4eFdNJfbyBg",
      "include_colab_link": true
    },
    "kernelspec": {
      "name": "python3",
      "display_name": "Python 3"
    },
    "language_info": {
      "name": "python"
    }
  },
  "cells": [
    {
      "cell_type": "markdown",
      "metadata": {
        "id": "view-in-github",
        "colab_type": "text"
      },
      "source": [
        "<a href=\"https://colab.research.google.com/github/martinaturchini/HIV-1-cleavage-project/blob/main/HIV_CLEAVAGE_project.ipynb\" target=\"_parent\"><img src=\"https://colab.research.google.com/assets/colab-badge.svg\" alt=\"Open In Colab\"/></a>"
      ]
    },
    {
      "cell_type": "markdown",
      "source": [
        "# HIV-1 Cleavage Prediction"
      ],
      "metadata": {
        "id": "-H2P1QFfU2QL"
      }
    },
    {
      "cell_type": "markdown",
      "source": [
        "This work shows the possibility to study and predict the HIV-1 cleavage sites given the combination of sequence information, including amino acid binary profiles, bond composition, and physicochemical properties. The best performances are obtained via the Multi-Layer Perceptron classifier and similar results can be obtained with the Logistic Regression classifier. The k-NN classifier is the worst among the methods analyzed in this work.\n",
        "The results could be improved by using a larger data set, that can be implemented via data augmentation techniques.\n"
      ],
      "metadata": {
        "id": "JeQYtXu-9rj7"
      }
    },
    {
      "cell_type": "markdown",
      "source": [
        "To work with the code is necessary to download and save the data set (https://github.com/martinaturchini/HIV-1-cleavege-/blob/main/12859_2022_5017_MOESM2_ESM.xlsx) in \"/content/gdrive/My Drive\"."
      ],
      "metadata": {
        "id": "PrjZSG4kRhtc"
      }
    }
  ]
}